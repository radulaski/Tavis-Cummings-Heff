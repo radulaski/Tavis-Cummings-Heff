{
 "cells": [
  {
   "cell_type": "code",
   "execution_count": 1,
   "id": "74622b58",
   "metadata": {},
   "outputs": [
    {
     "data": {
      "text/html": [
       "\n",
       "<style>\n",
       "    div#notebook-container    { width: 95%; }\n",
       "    div#menubar-container     { width: 65%; }\n",
       "    div#maintoolbar-container { width: 99%; }\n",
       "</style>\n"
      ],
      "text/plain": [
       "<IPython.core.display.HTML object>"
      ]
     },
     "metadata": {},
     "output_type": "display_data"
    }
   ],
   "source": [
    "import numpy as np\n",
    "import qutip\n",
    "import copy\n",
    "import time\n",
    "from matplotlib import pyplot as plt\n",
    "from matplotlib import cm\n",
    "\n",
    "#import cca modules\n",
    "import states\n",
    "import multi_cavity\n",
    "import plot\n",
    "import time_evolution\n",
    "import rand\n",
    "import metrics\n",
    "\n",
    "\n",
    "from IPython.display import display, Markdown, HTML, Math, Latex\n",
    "display(HTML(data=\"\"\"\n",
    "<style>\n",
    "    div#notebook-container    { width: 95%; }\n",
    "    div#menubar-container     { width: 65%; }\n",
    "    div#maintoolbar-container { width: 99%; }\n",
    "</style>\n",
    "\"\"\"))\n"
   ]
  },
  {
   "cell_type": "code",
   "execution_count": 3,
   "id": "76895fd4",
   "metadata": {},
   "outputs": [],
   "source": [
    "#cavity array params\n",
    "num_cavities = 5\n",
    "num_emitters = 1 #emitters per cavity\n",
    "num_photons = 1 #Hamiltonian conserved number\n",
    "periodic = False #periodic boundary conditions\n",
    "g = 5 #cavity-emitter coupling constant\n",
    "kappa = 10 #cavity loss rate\n",
    "gamma = 1/5.8 #emitter loss rate\n",
    "J = 5 #cavity-cavity photon hopping rate\n",
    "\n",
    "# params are either int or list for every element\n",
    "model_params = {\n",
    "        'emitters_per_cavity': num_emitters,\n",
    "        'kappa' : kappa,\n",
    "        'hopping': J,\n",
    "        'gamma' : gamma,\n",
    "        'g' : g,\n",
    "        'emitter_freqs' : 0,\n",
    "        'cavity_freqs' : [1,2,3,4,5]\n",
    "}\n",
    "\n",
    "#create the multi-cavity object\n",
    "cavity_array = multi_cavity.CavityArray(num_cavities, num_photons, model_params, periodic)\n",
    "\n",
    "#to generate the Hamiltonian \n",
    "H = cavity_array.hamiltonian()\n",
    "\n",
    "#eigenstates of H\n",
    "#eigenstates are returned lowest to highest energy\n",
    "eigvals, eigvecs = cavity_array.eigenstates()"
   ]
  },
  {
   "cell_type": "code",
   "execution_count": 28,
   "id": "1b6dd840",
   "metadata": {},
   "outputs": [
    {
     "data": {
      "text/latex": [
       "Quantum object: dims = [[20], [20]], shape = (20, 20), type = oper, isherm = False\\begin{equation*}\\left(\\begin{array}{*{11}c}(1.0-5.0j) & 5.0 & 5.0 & 5.0 & -5.0 & \\cdots & 0.0 & 0.0 & 0.0 & 0.0 & 0.0\\\\5.0 & -0.086j & 0.0 & 0.0 & 0.0 & \\cdots & 0.0 & 0.0 & 0.0 & 0.0 & 0.0\\\\5.0 & 0.0 & -0.086j & 0.0 & 0.0 & \\cdots & 0.0 & 0.0 & 0.0 & 0.0 & 0.0\\\\5.0 & 0.0 & 0.0 & -0.086j & 0.0 & \\cdots & 0.0 & 0.0 & 0.0 & 0.0 & 0.0\\\\-5.0 & 0.0 & 0.0 & 0.0 & (2.0-5.0j) & \\cdots & 0.0 & 0.0 & 0.0 & 0.0 & 0.0\\\\\\vdots & \\vdots & \\vdots & \\vdots & \\vdots & \\ddots & \\vdots & \\vdots & \\vdots & \\vdots & \\vdots\\\\0.0 & 0.0 & 0.0 & 0.0 & 0.0 & \\cdots & -0.086j & 0.0 & 0.0 & 0.0 & 0.0\\\\0.0 & 0.0 & 0.0 & 0.0 & 0.0 & \\cdots & 0.0 & (5.0-5.0j) & 5.0 & 5.0 & 5.0\\\\0.0 & 0.0 & 0.0 & 0.0 & 0.0 & \\cdots & 0.0 & 5.0 & -0.086j & 0.0 & 0.0\\\\0.0 & 0.0 & 0.0 & 0.0 & 0.0 & \\cdots & 0.0 & 5.0 & 0.0 & -0.086j & 0.0\\\\0.0 & 0.0 & 0.0 & 0.0 & 0.0 & \\cdots & 0.0 & 5.0 & 0.0 & 0.0 & -0.086j\\\\\\end{array}\\right)\\end{equation*}"
      ],
      "text/plain": [
       "Quantum object: dims = [[20], [20]], shape = (20, 20), type = oper, isherm = False\n",
       "Qobj data =\n",
       "[[ 1.-5.j         5.+0.j         5.+0.j         5.+0.j\n",
       "  -5.+0.j         0.+0.j         0.+0.j         0.+0.j\n",
       "   0.+0.j         0.+0.j         0.+0.j         0.+0.j\n",
       "   0.+0.j         0.+0.j         0.+0.j         0.+0.j\n",
       "   0.+0.j         0.+0.j         0.+0.j         0.+0.j       ]\n",
       " [ 5.+0.j         0.-0.0862069j  0.+0.j         0.+0.j\n",
       "   0.+0.j         0.+0.j         0.+0.j         0.+0.j\n",
       "   0.+0.j         0.+0.j         0.+0.j         0.+0.j\n",
       "   0.+0.j         0.+0.j         0.+0.j         0.+0.j\n",
       "   0.+0.j         0.+0.j         0.+0.j         0.+0.j       ]\n",
       " [ 5.+0.j         0.+0.j         0.-0.0862069j  0.+0.j\n",
       "   0.+0.j         0.+0.j         0.+0.j         0.+0.j\n",
       "   0.+0.j         0.+0.j         0.+0.j         0.+0.j\n",
       "   0.+0.j         0.+0.j         0.+0.j         0.+0.j\n",
       "   0.+0.j         0.+0.j         0.+0.j         0.+0.j       ]\n",
       " [ 5.+0.j         0.+0.j         0.+0.j         0.-0.0862069j\n",
       "   0.+0.j         0.+0.j         0.+0.j         0.+0.j\n",
       "   0.+0.j         0.+0.j         0.+0.j         0.+0.j\n",
       "   0.+0.j         0.+0.j         0.+0.j         0.+0.j\n",
       "   0.+0.j         0.+0.j         0.+0.j         0.+0.j       ]\n",
       " [-5.+0.j         0.+0.j         0.+0.j         0.+0.j\n",
       "   2.-5.j         5.+0.j         5.+0.j         5.+0.j\n",
       "  -5.+0.j         0.+0.j         0.+0.j         0.+0.j\n",
       "   0.+0.j         0.+0.j         0.+0.j         0.+0.j\n",
       "   0.+0.j         0.+0.j         0.+0.j         0.+0.j       ]\n",
       " [ 0.+0.j         0.+0.j         0.+0.j         0.+0.j\n",
       "   5.+0.j         0.-0.0862069j  0.+0.j         0.+0.j\n",
       "   0.+0.j         0.+0.j         0.+0.j         0.+0.j\n",
       "   0.+0.j         0.+0.j         0.+0.j         0.+0.j\n",
       "   0.+0.j         0.+0.j         0.+0.j         0.+0.j       ]\n",
       " [ 0.+0.j         0.+0.j         0.+0.j         0.+0.j\n",
       "   5.+0.j         0.+0.j         0.-0.0862069j  0.+0.j\n",
       "   0.+0.j         0.+0.j         0.+0.j         0.+0.j\n",
       "   0.+0.j         0.+0.j         0.+0.j         0.+0.j\n",
       "   0.+0.j         0.+0.j         0.+0.j         0.+0.j       ]\n",
       " [ 0.+0.j         0.+0.j         0.+0.j         0.+0.j\n",
       "   5.+0.j         0.+0.j         0.+0.j         0.-0.0862069j\n",
       "   0.+0.j         0.+0.j         0.+0.j         0.+0.j\n",
       "   0.+0.j         0.+0.j         0.+0.j         0.+0.j\n",
       "   0.+0.j         0.+0.j         0.+0.j         0.+0.j       ]\n",
       " [ 0.+0.j         0.+0.j         0.+0.j         0.+0.j\n",
       "  -5.+0.j         0.+0.j         0.+0.j         0.+0.j\n",
       "   3.-5.j         5.+0.j         5.+0.j         5.+0.j\n",
       "  -5.+0.j         0.+0.j         0.+0.j         0.+0.j\n",
       "   0.+0.j         0.+0.j         0.+0.j         0.+0.j       ]\n",
       " [ 0.+0.j         0.+0.j         0.+0.j         0.+0.j\n",
       "   0.+0.j         0.+0.j         0.+0.j         0.+0.j\n",
       "   5.+0.j         0.-0.0862069j  0.+0.j         0.+0.j\n",
       "   0.+0.j         0.+0.j         0.+0.j         0.+0.j\n",
       "   0.+0.j         0.+0.j         0.+0.j         0.+0.j       ]\n",
       " [ 0.+0.j         0.+0.j         0.+0.j         0.+0.j\n",
       "   0.+0.j         0.+0.j         0.+0.j         0.+0.j\n",
       "   5.+0.j         0.+0.j         0.-0.0862069j  0.+0.j\n",
       "   0.+0.j         0.+0.j         0.+0.j         0.+0.j\n",
       "   0.+0.j         0.+0.j         0.+0.j         0.+0.j       ]\n",
       " [ 0.+0.j         0.+0.j         0.+0.j         0.+0.j\n",
       "   0.+0.j         0.+0.j         0.+0.j         0.+0.j\n",
       "   5.+0.j         0.+0.j         0.+0.j         0.-0.0862069j\n",
       "   0.+0.j         0.+0.j         0.+0.j         0.+0.j\n",
       "   0.+0.j         0.+0.j         0.+0.j         0.+0.j       ]\n",
       " [ 0.+0.j         0.+0.j         0.+0.j         0.+0.j\n",
       "   0.+0.j         0.+0.j         0.+0.j         0.+0.j\n",
       "  -5.+0.j         0.+0.j         0.+0.j         0.+0.j\n",
       "   4.-5.j         5.+0.j         5.+0.j         5.+0.j\n",
       "  -5.+0.j         0.+0.j         0.+0.j         0.+0.j       ]\n",
       " [ 0.+0.j         0.+0.j         0.+0.j         0.+0.j\n",
       "   0.+0.j         0.+0.j         0.+0.j         0.+0.j\n",
       "   0.+0.j         0.+0.j         0.+0.j         0.+0.j\n",
       "   5.+0.j         0.-0.0862069j  0.+0.j         0.+0.j\n",
       "   0.+0.j         0.+0.j         0.+0.j         0.+0.j       ]\n",
       " [ 0.+0.j         0.+0.j         0.+0.j         0.+0.j\n",
       "   0.+0.j         0.+0.j         0.+0.j         0.+0.j\n",
       "   0.+0.j         0.+0.j         0.+0.j         0.+0.j\n",
       "   5.+0.j         0.+0.j         0.-0.0862069j  0.+0.j\n",
       "   0.+0.j         0.+0.j         0.+0.j         0.+0.j       ]\n",
       " [ 0.+0.j         0.+0.j         0.+0.j         0.+0.j\n",
       "   0.+0.j         0.+0.j         0.+0.j         0.+0.j\n",
       "   0.+0.j         0.+0.j         0.+0.j         0.+0.j\n",
       "   5.+0.j         0.+0.j         0.+0.j         0.-0.0862069j\n",
       "   0.+0.j         0.+0.j         0.+0.j         0.+0.j       ]\n",
       " [ 0.+0.j         0.+0.j         0.+0.j         0.+0.j\n",
       "   0.+0.j         0.+0.j         0.+0.j         0.+0.j\n",
       "   0.+0.j         0.+0.j         0.+0.j         0.+0.j\n",
       "  -5.+0.j         0.+0.j         0.+0.j         0.+0.j\n",
       "   5.-5.j         5.+0.j         5.+0.j         5.+0.j       ]\n",
       " [ 0.+0.j         0.+0.j         0.+0.j         0.+0.j\n",
       "   0.+0.j         0.+0.j         0.+0.j         0.+0.j\n",
       "   0.+0.j         0.+0.j         0.+0.j         0.+0.j\n",
       "   0.+0.j         0.+0.j         0.+0.j         0.+0.j\n",
       "   5.+0.j         0.-0.0862069j  0.+0.j         0.+0.j       ]\n",
       " [ 0.+0.j         0.+0.j         0.+0.j         0.+0.j\n",
       "   0.+0.j         0.+0.j         0.+0.j         0.+0.j\n",
       "   0.+0.j         0.+0.j         0.+0.j         0.+0.j\n",
       "   0.+0.j         0.+0.j         0.+0.j         0.+0.j\n",
       "   5.+0.j         0.+0.j         0.-0.0862069j  0.+0.j       ]\n",
       " [ 0.+0.j         0.+0.j         0.+0.j         0.+0.j\n",
       "   0.+0.j         0.+0.j         0.+0.j         0.+0.j\n",
       "   0.+0.j         0.+0.j         0.+0.j         0.+0.j\n",
       "   0.+0.j         0.+0.j         0.+0.j         0.+0.j\n",
       "   5.+0.j         0.+0.j         0.+0.j         0.-0.0862069j]]"
      ]
     },
     "execution_count": 28,
     "metadata": {},
     "output_type": "execute_result"
    }
   ],
   "source": [
    "H"
   ]
  },
  {
   "cell_type": "code",
   "execution_count": 12,
   "id": "beae7ab2",
   "metadata": {},
   "outputs": [
    {
     "data": {
      "image/png": "[encoded data removed]",
      "text/plain": [
       "<Figure size 432x288 with 1 Axes>"
      ]
     },
     "execution_count": 12,
     "metadata": {},
     "output_type": "execute_result"
    }
   ],
   "source": [
    "#plot examples\n",
    "#eigenvalues, lowest to highest\n",
    "#errorbar is imaginary part of eigenvalue, corresponds to the linewidth (guided by kappa)\n",
    "plot.eigenvalues(cavity_array)"
   ]
  },
  {
   "cell_type": "code",
   "execution_count": 7,
   "id": "f1ec6da0",
   "metadata": {},
   "outputs": [
    {
     "data": {
      "image/png": "[encoded data removed]",
      "text/plain": [
       "<Figure size 1440x1152 with 20 Axes>"
      ]
     },
     "execution_count": 7,
     "metadata": {},
     "output_type": "execute_result"
    }
   ],
   "source": [
    "#plot cavity occupancy: probability of photon or excited emitter in each node (cavity)\n",
    "#for each eigenstate (lowest to highest energy)\n",
    "plot.cavity_occupancy(cavity_array)"
   ]
  },
  {
   "cell_type": "code",
   "execution_count": 13,
   "id": "8bffd48d",
   "metadata": {},
   "outputs": [
    {
     "data": {
      "image/png": "[encoded data removed]",
      "text/plain": [
       "<Figure size 432x288 with 1 Axes>"
      ]
     },
     "execution_count": 13,
     "metadata": {},
     "output_type": "execute_result"
    }
   ],
   "source": [
    "#participation ratio for each eigenstate\n",
    "plot.participation(cavity_array)"
   ]
  },
  {
   "cell_type": "code",
   "execution_count": 15,
   "id": "aba2d7c6",
   "metadata": {},
   "outputs": [
    {
     "data": {
      "image/png": "[encoded data removed]",
      "text/plain": [
       "<Figure size 432x288 with 1 Axes>"
      ]
     },
     "execution_count": 15,
     "metadata": {},
     "output_type": "execute_result"
    }
   ],
   "source": [
    "#randomize parameters\n",
    "#eg. random emitter freqs\n",
    "spread = g\n",
    "center_freq = 0\n",
    "ef = rand.emitter_freqs(num_cavities, num_emitters, center_freq, spread)\n",
    "\n",
    "#update model params\n",
    "model_params['emitter_freqs'] = ef \n",
    "\n",
    "#new cavity array\n",
    "cavity_array = multi_cavity.CavityArray(num_cavities, num_photons, model_params, periodic)\n",
    "\n",
    "plot.eigenvalues(cavity_array)"
   ]
  },
  {
   "cell_type": "code",
   "execution_count": 27,
   "id": "02e765f4",
   "metadata": {},
   "outputs": [
    {
     "data": {
      "image/png": "[encoded data removed]",
      "text/plain": [
       "<Figure size 864x648 with 1 Axes>"
      ]
     },
     "metadata": {
      "needs_background": "light"
     },
     "output_type": "display_data"
    }
   ],
   "source": [
    "#use metrics to make figure of avg polariton participation for 100 diff random realizations of emitter freqs\n",
    "nruns = 100\n",
    "\n",
    "\n",
    "tempresults = []\n",
    "efs = [rand.emitter_freqs(num_cavities, num_emitters, center_freq, spread) for i in range(nruns)]\n",
    "for ef in efs:\n",
    "    model_params['emitter_freqs'] = ef \n",
    "    cavity_array = multi_cavity.CavityArray(num_cavities, num_photons, model_params, periodic)\n",
    "    \n",
    "    #polariton participation ratio for each eigenstate\n",
    "    pp = metrics.polariton_participation(cavity_array)\n",
    "    tempresults.append(pp)\n",
    "    \n",
    "mean = np.mean(tempresults, axis=0)\n",
    "std = np.std(tempresults, axis=0)\n",
    "\n",
    "#create fig\n",
    "nrows, ncols = 1, 1\n",
    "fig, axes = plt.subplots(nrows, ncols, sharex='all', sharey='all', gridspec_kw={'wspace':0.5, 'hspace':0.05}, figsize=((12)*ncols,(9)*nrows), squeeze=False)\n",
    "\n",
    "#plot\n",
    "x = range(1, 1+len(mean))\n",
    "axes[0,0].errorbar(x, mean, std, fmt='.', label='$P_P$')\n",
    "\n",
    "#formate plot\n",
    "axes[0,0].set_xlabel('Eigenvector')\n",
    "axes[0,0].set_xticks(x)\n",
    "axes[0,0].set_ylabel('Participation')\n",
    "axes[0,0].legend()\n",
    "\n",
    "plt.show()"
   ]
  },
  {
   "cell_type": "code",
   "execution_count": null,
   "id": "04589533",
   "metadata": {},
   "outputs": [],
   "source": []
  }
 ],
 "metadata": {
  "kernelspec": {
   "display_name": "Python 3",
   "language": "python",
   "name": "python3"
  },
  "language_info": {
   "codemirror_mode": {
    "name": "ipython",
    "version": 3
   },
   "file_extension": ".py",
   "mimetype": "text/x-python",
   "name": "python",
   "nbconvert_exporter": "python",
   "pygments_lexer": "ipython3",
   "version": "3.8.10"
  }
 },
 "nbformat": 4,
 "nbformat_minor": 5
}
